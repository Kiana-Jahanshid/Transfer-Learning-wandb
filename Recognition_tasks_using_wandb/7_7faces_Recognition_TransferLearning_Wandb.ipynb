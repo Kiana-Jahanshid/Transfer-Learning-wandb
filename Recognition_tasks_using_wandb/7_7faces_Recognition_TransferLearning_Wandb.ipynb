{
  "nbformat": 4,
  "nbformat_minor": 0,
  "metadata": {
    "colab": {
      "provenance": [],
      "gpuType": "T4"
    },
    "kernelspec": {
      "name": "python3",
      "display_name": "Python 3"
    },
    "language_info": {
      "name": "python"
    },
    "accelerator": "GPU"
  },
  "cells": [
    {
      "cell_type": "code",
      "source": [
        "from google.colab import drive\n",
        "drive.mount('/content/drive')"
      ],
      "metadata": {
        "colab": {
          "base_uri": "https://localhost:8080/"
        },
        "id": "cr_R7dYd9Rzy",
        "outputId": "ebb53968-f8f3-4b8e-ef6a-43b5b9f29982"
      },
      "execution_count": 1,
      "outputs": [
        {
          "output_type": "stream",
          "name": "stdout",
          "text": [
            "Mounted at /content/drive\n"
          ]
        }
      ]
    },
    {
      "cell_type": "code",
      "source": [
        "!pip install wandb"
      ],
      "metadata": {
        "id": "_YCJYTTPf-mq"
      },
      "execution_count": null,
      "outputs": []
    },
    {
      "cell_type": "code",
      "execution_count": null,
      "metadata": {
        "id": "UjH1GoKrmnho"
      },
      "outputs": [],
      "source": [
        "import tensorflow as tf\n",
        "from tensorflow.keras import models\n",
        "from tensorflow.keras.preprocessing.image import ImageDataGenerator\n",
        "from sklearn.metrics import confusion_matrix , ConfusionMatrixDisplay\n",
        "import matplotlib.pyplot as plt\n",
        "import numpy as np\n",
        "from sklearn import metrics\n",
        "import wandb"
      ]
    },
    {
      "cell_type": "code",
      "source": [
        "dataset_path = \"/content/drive/MyDrive/7-7 dataset\"\n"
      ],
      "metadata": {
        "id": "aFR1qVDbnTzy"
      },
      "execution_count": null,
      "outputs": []
    },
    {
      "cell_type": "code",
      "source": [
        "width = height = 299\n",
        "img_data_generator = ImageDataGenerator(\n",
        "    rotation_range=10,\n",
        "    width_shift_range=0.2,\n",
        "    height_shift_range=0.2,\n",
        "    shear_range=0.2,\n",
        "    zoom_range=0.2,\n",
        "    horizontal_flip=True,\n",
        "    vertical_flip=False,\n",
        "    rescale=1./255 ,\n",
        "    validation_split=0.1,\n",
        ")\n",
        "train_data= img_data_generator.flow_from_directory(\n",
        "    dataset_path ,\n",
        "    shuffle=True,\n",
        "    subset=\"training\",\n",
        "    target_size=(width,height),\n",
        "    batch_size=32\n",
        ")\n",
        "\n",
        "validation_data = img_data_generator.flow_from_directory(\n",
        "    dataset_path,\n",
        "    shuffle=True,\n",
        "    subset=\"validation\",\n",
        "    target_size=(width,height),\n",
        "    batch_size=32\n",
        ")"
      ],
      "metadata": {
        "colab": {
          "base_uri": "https://localhost:8080/"
        },
        "id": "t8xJqOwRnkWi",
        "outputId": "b2dee3c1-05e7-455e-cd19-94d2fc0dcdbc"
      },
      "execution_count": null,
      "outputs": [
        {
          "output_type": "stream",
          "name": "stdout",
          "text": [
            "Found 1171 images belonging to 5 classes.\n",
            "Found 128 images belonging to 5 classes.\n"
          ]
        }
      ]
    },
    {
      "cell_type": "markdown",
      "source": [
        "## train_data is an iterator , so :"
      ],
      "metadata": {
        "id": "kwCztVziDVv1"
      }
    },
    {
      "cell_type": "code",
      "source": [
        "next(train_data)[0].shape"
      ],
      "metadata": {
        "colab": {
          "base_uri": "https://localhost:8080/"
        },
        "id": "9zaE1lhZEwb_",
        "outputId": "5b2800b7-7b40-4710-e6ae-e9773869011c"
      },
      "execution_count": null,
      "outputs": [
        {
          "output_type": "execute_result",
          "data": {
            "text/plain": [
              "(32, 299, 299, 3)"
            ]
          },
          "metadata": {},
          "execution_count": 56
        }
      ]
    },
    {
      "cell_type": "code",
      "source": [
        "train_images = next(train_data)[0]\n",
        "for i in range(16):\n",
        "  plt.subplot(4,4,i+1)\n",
        "  plt.imshow(train_images[i])"
      ],
      "metadata": {
        "id": "ZGaYMmKCDTSZ"
      },
      "execution_count": null,
      "outputs": []
    },
    {
      "cell_type": "markdown",
      "source": [
        "## TransferLearning : weights=\"imagenet\""
      ],
      "metadata": {
        "id": "d0faVK_JFwlH"
      }
    },
    {
      "cell_type": "code",
      "source": [
        "initial_model = tf.keras.applications.InceptionResNetV2(weights=\"imagenet\" , input_shape=(width,height,3))\n",
        "#initial_model.summary()"
      ],
      "metadata": {
        "id": "uYpVcKsvGliV"
      },
      "execution_count": null,
      "outputs": []
    },
    {
      "cell_type": "markdown",
      "source": [
        "## include_top = False :"
      ],
      "metadata": {
        "id": "BpPnHzXsHmOb"
      }
    },
    {
      "cell_type": "markdown",
      "source": [
        " ## these 2 layers have been deleted :\n",
        " ### because of include_top=False\n",
        " avg_pool (GlobalAveragePoo(None,1536))                                                           \n",
        " predictions (Dense)(None, 1000)"
      ],
      "metadata": {
        "id": "kUHVTPnLH1Le"
      }
    },
    {
      "cell_type": "code",
      "source": [
        "initial_model = tf.keras.applications.InceptionResNetV2(weights=\"imagenet\" , include_top=False , input_shape=(width,height,3))\n",
        "#initial_model.summary()"
      ],
      "metadata": {
        "id": "aF3USP0Wtd05"
      },
      "execution_count": null,
      "outputs": []
    },
    {
      "cell_type": "markdown",
      "source": [
        "## حالا خودمون باید اون دوتا لایه رو بسازیم ::\n",
        "اما لایه پولینگ رو میتونیم اینجوری بسازیم ::\n",
        "اینجوری فقط لایه دنس را حذف کردیم"
      ],
      "metadata": {
        "id": "uDIVFap7Ix0h"
      }
    },
    {
      "cell_type": "code",
      "source": [
        "initial_model = tf.keras.applications.InceptionResNetV2(weights=\"imagenet\",\n",
        "                                                        include_top=False,\n",
        "                                                        pooling=\"avg\",\n",
        "                                                        input_shape=(width,height,3))\n",
        "initial_model.summary()"
      ],
      "metadata": {
        "id": "-pBDZNM2Iw7p"
      },
      "execution_count": null,
      "outputs": []
    },
    {
      "cell_type": "markdown",
      "source": [
        "# FREEZING SOME LAYERS :\n",
        "\n",
        "نمیخوایم همه ی لایه ها ترین بشن"
      ],
      "metadata": {
        "id": "-yMC6xoTKU7o"
      }
    },
    {
      "cell_type": "markdown",
      "source": [
        "## اگر بخوایم چهار لایه آخر شبکه فریز نشوند  :\n",
        "چهارتای آخر را درنظر نمیگیریم\n",
        "یعنی میخوایم ۴ لایه آخر شبکه ترین بشوند ولی بقیه نه  "
      ],
      "metadata": {
        "id": "2tL-XcMrLUJ6"
      }
    },
    {
      "cell_type": "code",
      "source": [
        "for layer in initial_model.layers[:-4]:\n",
        " layer.trainable=False\n",
        "\n",
        "#initial_model.summary()"
      ],
      "metadata": {
        "id": "QFBKQ2jPLSqE"
      },
      "execution_count": null,
      "outputs": []
    },
    {
      "cell_type": "code",
      "source": [
        "model = tf.keras.models.Sequential([\n",
        "    initial_model,\n",
        "    tf.keras.layers.Dropout(0.2), # 0.2 is probability that a neuron will be inactive and 80% active\n",
        "    tf.keras.layers.Dense(14 , activation=\"softmax\")\n",
        "])\n",
        "model.summary()"
      ],
      "metadata": {
        "id": "02lS044rt4WX"
      },
      "execution_count": null,
      "outputs": []
    },
    {
      "cell_type": "code",
      "source": [
        "model.compile(optimizer=tf.keras.optimizers.Adamax(learning_rate=0.001) ,\n",
        "              loss=tf.keras.losses.categorical_crossentropy ,\n",
        "              metrics=[\"accuracy\"] )"
      ],
      "metadata": {
        "id": "G0cF4k6Bv1d7"
      },
      "execution_count": null,
      "outputs": []
    },
    {
      "cell_type": "code",
      "source": [
        "run = wandb.init(project=\"7-7-faces\")"
      ],
      "metadata": {
        "id": "iPKgEmYfgIHj"
      },
      "execution_count": null,
      "outputs": []
    },
    {
      "cell_type": "code",
      "source": [
        "from wandb.sdk.wandb_run import wandb_metric\n",
        "config = wandb.config\n",
        "from wandb.keras import (\n",
        "   WandbMetricsLogger,\n",
        "   WandbModelCheckpoint,\n",
        ")\n",
        "\n",
        "wandb_callbacks = [\n",
        "   WandbMetricsLogger(log_freq=5),\n",
        "   WandbModelCheckpoint(\"models\"),\n",
        "]"
      ],
      "metadata": {
        "id": "ccOuSVzHgVAh"
      },
      "execution_count": null,
      "outputs": []
    },
    {
      "cell_type": "code",
      "source": [
        "history = model.fit(train_data , validation_data=validation_data , epochs=10 , callbacks=wandb_callbacks)\n"
      ],
      "metadata": {
        "id": "2nyW86vewz_c"
      },
      "execution_count": null,
      "outputs": []
    },
    {
      "cell_type": "markdown",
      "source": [
        "| Layers Freezed|without Dropout| with Droput = 0.2 |with Droput = 0.5 |\n",
        "| ------------- | :-------------: | :-------------: |:-------------: |\n",
        "| validation Accuracy  | -  | -  | -  |\n"
      ],
      "metadata": {
        "id": "APySGFDalYZu"
      }
    },
    {
      "cell_type": "markdown",
      "source": [
        "|without Freezing layers|without Dropout| with Droput = 0.2 | with Droput = 0.5 |\n",
        "| ------------- | :-------------: | :-------------: | :-------------: |\n",
        "| validation Accuracy  | -  | -  | -  |\n"
      ],
      "metadata": {
        "id": "xTB8Ruqdmyz5"
      }
    },
    {
      "cell_type": "code",
      "source": [
        "plt.plot(history.history[\"accuracy\"])\n",
        "plt.plot(history.history[\"loss\"], label='Train')\n",
        "plt.plot(history.history[\"val_accuracy\"], label='Validation')\n",
        "plt.plot(history.history[\"val_loss\"])\n",
        "plt.legend([\"accuracy\",\"loss\" , \"val_accuracy\" , \"val_loss\"])\n",
        "plt.xlabel(\"Epochs\")\n",
        "plt.ylabel(\"loss & accuracy\")\n",
        "plt.show()"
      ],
      "metadata": {
        "id": "dq7Yvn64-uBi",
        "colab": {
          "base_uri": "https://localhost:8080/",
          "height": 449
        },
        "outputId": "7ca0c011-06f3-476e-af5b-1021665577c7"
      },
      "execution_count": null,
      "outputs": [
        {
          "output_type": "display_data",
          "data": {
            "text/plain": [
              "<Figure size 640x480 with 1 Axes>"
            ],
            "image/png": "[encoded data removed]"
          },
          "metadata": {}
        }
      ]
    },
    {
      "cell_type": "code",
      "source": [
        "images,labels = validation_data[1]\n",
        "ypred_list = []\n",
        "for image in images:\n",
        "    image = np.expand_dims(image, axis=0)\n",
        "    ypred=model.predict(image)\n",
        "    ypred_list.append(np.argmax(ypred))\n",
        "ytrue_list = []\n",
        "for label in labels:\n",
        "    ytrue_list.append(np.argmax(label))"
      ],
      "metadata": {
        "id": "nXq2Wjeh_eVR"
      },
      "execution_count": null,
      "outputs": []
    },
    {
      "cell_type": "code",
      "source": [
        "np.array(ytrue_list)"
      ],
      "metadata": {
        "id": "EHqjEzvGO2Rz",
        "colab": {
          "base_uri": "https://localhost:8080/"
        },
        "outputId": "fecd63dd-e5f9-4d5a-fa28-f79924fd3a14"
      },
      "execution_count": null,
      "outputs": [
        {
          "data": {
            "text/plain": [
              "array([0, 4, 2, 1, 1, 3, 0, 2, 3, 3, 4, 4, 2, 0, 1, 4, 4, 3, 0, 1, 3, 2,\n",
              "       0, 4, 0, 1, 4, 0, 4, 0, 4, 1])"
            ]
          },
          "execution_count": 71,
          "metadata": {},
          "output_type": "execute_result"
        }
      ]
    },
    {
      "cell_type": "code",
      "source": [
        "np.array(ypred_list)"
      ],
      "metadata": {
        "id": "77-qJIrjO3Za",
        "colab": {
          "base_uri": "https://localhost:8080/"
        },
        "outputId": "f4735166-2792-4ea9-c219-d8e41bd09b1d"
      },
      "execution_count": null,
      "outputs": [
        {
          "data": {
            "text/plain": [
              "array([0, 4, 2, 1, 1, 3, 0, 2, 3, 3, 4, 4, 2, 0, 1, 4, 4, 3, 0, 1, 3, 2,\n",
              "       0, 4, 0, 1, 4, 0, 4, 0, 4, 1])"
            ]
          },
          "execution_count": 72,
          "metadata": {},
          "output_type": "execute_result"
        }
      ]
    },
    {
      "cell_type": "code",
      "source": [
        "confm = metrics.confusion_matrix(y_true= ytrue_list , y_pred= ypred_list  )\n",
        "cm_display = metrics.ConfusionMatrixDisplay(confusion_matrix = confm , display_labels=['Ali_Khamenei', 'Angelina_Jolie', 'Barak_Obama', 'Behnam_Bani', 'Donald_Trump', 'Emma_Watson', 'Han_Hye_Jin', 'Kim_Jong_Un', 'Leyla_Hatami', 'Lionel_Messi', 'Michelle_Obama', 'Morgan_Freeman', 'Queen_Elizabeth', 'Scarlett_Johansson'])\n",
        "cm_display.plot(cmap=plt.cm.Oranges , xticks_rotation=\"vertical\")\n",
        "plt.show()"
      ],
      "metadata": {
        "id": "6U2wWJzJAGxv",
        "colab": {
          "base_uri": "https://localhost:8080/",
          "height": 502
        },
        "outputId": "6dd16def-839f-48f6-f743-3f33cfc6a5ec"
      },
      "execution_count": null,
      "outputs": [
        {
          "output_type": "display_data",
          "data": {
            "text/plain": [
              "<Figure size 640x480 with 2 Axes>"
            ],
            "image/png": "[encoded data removed]"
          },
          "metadata": {}
        }
      ]
    },
    {
      "cell_type": "markdown",
      "source": [
        "# Inference"
      ],
      "metadata": {
        "id": "24tWeZsvAmLC"
      }
    },
    {
      "cell_type": "markdown",
      "source": [
        "شبکه همیشه تصاویر را به صورت بچ میخواد از ما . یعنی ورودی شبکه همیشه ۴ بعدی است .\n",
        "یکی از این ۴ تا بعد بچ سایز است\n",
        "اما حالا که فقط میخوایم یک تصویر بدیم بازم باید تصویر رو ۴ بعدی بکنیم\n"
      ],
      "metadata": {
        "id": "fI6YtrEoXsjK"
      }
    },
    {
      "cell_type": "code",
      "source": [
        "import cv2\n",
        "\n",
        "new_image = cv2.imread(\"/content/angelina1.jpg\")\n",
        "new_image = cv2.cvtColor(new_image , cv2.COLOR_BGR2RGB)\n",
        "plt.imshow(new_image)\n",
        "new_image = cv2.resize(new_image , (299,299))\n",
        "new_image = new_image / 255.0\n",
        "new_image = np.reshape(new_image, [1, 299, 299, 3]) # new_iamge.reshape(1,299,299,3)\n",
        "\n",
        "output = model.predict(new_image)\n",
        "\n",
        "predicted_class = np.argmax(output)\n",
        "print(predicted_class)\n",
        "print(train_data.class_indices)\n",
        "mylist = list(train_data.class_indices)\n",
        "print(\"predicted label : \" , mylist[np.argmax(output)])"
      ],
      "metadata": {
        "id": "DaOJbEYTJSFp"
      },
      "execution_count": null,
      "outputs": []
    },
    {
      "cell_type": "code",
      "source": [
        "new_image = cv2.imread(\"/content/trump.jpg\")\n",
        "new_image = cv2.cvtColor(new_image , cv2.COLOR_BGR2RGB)\n",
        "plt.imshow(new_image)\n",
        "new_image = cv2.resize(new_image , (299,299))\n",
        "new_image = new_image / 255.0\n",
        "new_image = np.reshape(new_image, [1, 299, 299, 3]) # new_iamge.reshape(1,299,299,3)\n",
        "\n",
        "output = model.predict(new_image)\n",
        "\n",
        "predicted_class = np.argmax(output)\n",
        "print(predicted_class)\n",
        "print(train_data.class_indices)\n",
        "mylist = list(train_data.class_indices)\n",
        "print(\"predicted label : \" , mylist[np.argmax(output)])"
      ],
      "metadata": {
        "id": "lkYCK2QvjOu8"
      },
      "execution_count": null,
      "outputs": []
    },
    {
      "cell_type": "code",
      "source": [
        "new_image = cv2.imread(\"/content/Obama.jpg\")\n",
        "new_image = cv2.cvtColor(new_image , cv2.COLOR_BGR2RGB)\n",
        "plt.imshow(new_image)\n",
        "new_image = cv2.resize(new_image , (299,299))\n",
        "new_image = new_image / 255.0\n",
        "new_image = np.reshape(new_image, [1, 299, 299, 3]) # new_iamge.reshape(1,299,299,3)\n",
        "\n",
        "output = model.predict(new_image)\n",
        "\n",
        "predicted_class = np.argmax(output)\n",
        "print(predicted_class)\n",
        "print(train_data.class_indices)\n",
        "mylist = list(train_data.class_indices)\n",
        "print(\"predicted label : \" , mylist[np.argmax(output)])"
      ],
      "metadata": {
        "id": "GzlOQTO_jhxp"
      },
      "execution_count": null,
      "outputs": []
    },
    {
      "cell_type": "code",
      "source": [
        "new_image = cv2.imread(\"/content/queen.jpg\")\n",
        "new_image = cv2.cvtColor(new_image , cv2.COLOR_BGR2RGB)\n",
        "plt.imshow(new_image)\n",
        "new_image = cv2.resize(new_image , (299,299))\n",
        "new_image = new_image / 255.0\n",
        "new_image = np.reshape(new_image, [1, 299, 299, 3]) # new_iamge.reshape(1,299,299,3)\n",
        "\n",
        "output = model.predict(new_image)\n",
        "\n",
        "predicted_class = np.argmax(output)\n",
        "print(predicted_class)\n",
        "print(train_data.class_indices)\n",
        "mylist = list(train_data.class_indices)\n",
        "print(\"predicted label : \" , mylist[np.argmax(output)])"
      ],
      "metadata": {
        "id": "mO3rCIeFeNzO"
      },
      "execution_count": null,
      "outputs": []
    }
  ]
}